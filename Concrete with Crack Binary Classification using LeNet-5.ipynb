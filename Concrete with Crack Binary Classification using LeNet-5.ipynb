{
 "cells": [
  {
   "cell_type": "code",
   "execution_count": 59,
   "id": "c172afb5",
   "metadata": {},
   "outputs": [],
   "source": [
    "import matplotlib.pyplot as plt\n",
    "import numpy as np\n",
    "import os\n",
    "import tensorflow as tf\n",
    "import keras\n",
    "from keras.preprocessing.image import ImageDataGenerator\n",
    "import splitfolders\n",
    "from tensorflow.keras.optimizers import SGD\n",
    "from keras.callbacks import ModelCheckpoint, EarlyStopping, ReduceLROnPlateau, CSVLogger, TensorBoard\n",
    "from sklearn.metrics import classification_report, confusion_matrix\n",
    "import datetime"
   ]
  },
  {
   "cell_type": "code",
   "execution_count": 60,
   "id": "b416cea9",
   "metadata": {},
   "outputs": [],
   "source": [
    "#importing image dataset of concrete\n",
    "img_dir = r\"C:\\Users\\User\\Downloads\\Concrete with Cracks Image Classification Project\\img_dataset\"\n",
    "\n",
    "#setup hyperparameters\n",
    "BATCH_SIZE = 32\n",
    "IMG_SIZE = (48, 48)\n",
    "SEED = 12345\n",
    "EPOCH = 50\n",
    "LR = 0.01"
   ]
  },
  {
   "cell_type": "code",
   "execution_count": null,
   "id": "f3c9af19",
   "metadata": {},
   "outputs": [],
   "source": [
    "splitfolders.ratio(img_dir,output=\"output_img_dataset\" ,\n",
    "    seed=SEED, ratio=(.7, .2, .1), group_prefix=None, move=False) # default values"
   ]
  },
  {
   "cell_type": "code",
   "execution_count": 61,
   "id": "a49225c4",
   "metadata": {},
   "outputs": [],
   "source": [
    "train_data = r\"C:\\Users\\User\\Downloads\\Concrete with Cracks Image Classification Project\\output_img_dataset\\train\"\n",
    "val_data = r\"C:\\Users\\User\\Downloads\\Concrete with Cracks Image Classification Project\\output_img_dataset\\val\"\n",
    "test_data = r\"C:\\Users\\User\\Downloads\\Concrete with Cracks Image Classification Project\\output_img_dataset\\test\""
   ]
  },
  {
   "cell_type": "code",
   "execution_count": 62,
   "id": "50415cf2",
   "metadata": {},
   "outputs": [
    {
     "name": "stdout",
     "output_type": "stream",
     "text": [
      "Found 28000 images belonging to 2 classes.\n",
      "Found 8000 images belonging to 2 classes.\n",
      "Found 4000 images belonging to 2 classes.\n"
     ]
    }
   ],
   "source": [
    "train_datagen = ImageDataGenerator(rescale=1./255, rotation_range=30, shear_range=0.3, zoom_range=0.3,\n",
    "                                   width_shift_range=0.4,\n",
    "                                   height_shift_range=0.4, horizontal_flip=True, fill_mode='nearest')\n",
    "\n",
    "test_datagen = ImageDataGenerator(rescale = 1./255)\n",
    "    \n",
    "train_generator = train_datagen.flow_from_directory(train_data,color_mode='grayscale',\n",
    "                                                    target_size=IMG_SIZE,\n",
    "                                                    batch_size=BATCH_SIZE, \n",
    "                                                    class_mode='categorical',shuffle=True)\n",
    "valid_generator = test_datagen.flow_from_directory(val_data,color_mode='grayscale',\n",
    "                                                    target_size=IMG_SIZE,\n",
    "                                                    batch_size=BATCH_SIZE, \n",
    "                                                    class_mode='categorical',shuffle=True)\n",
    "\n",
    "test_generator = test_datagen.flow_from_directory(test_data,color_mode='grayscale',\n",
    "                                                    target_size=IMG_SIZE,\n",
    "                                                    batch_size=BATCH_SIZE, \n",
    "                                                    class_mode='categorical',shuffle=True)"
   ]
  },
  {
   "cell_type": "code",
   "execution_count": 63,
   "id": "4738a551",
   "metadata": {},
   "outputs": [
    {
     "name": "stdout",
     "output_type": "stream",
     "text": [
      "['Negative', 'Positive']\n"
     ]
    }
   ],
   "source": [
    "print(list(train_generator.class_indices.keys()))\n",
    "num_classes = 2"
   ]
  },
  {
   "cell_type": "code",
   "execution_count": 64,
   "id": "00d79401",
   "metadata": {},
   "outputs": [
    {
     "name": "stdout",
     "output_type": "stream",
     "text": [
      "Model: \"sequential_9\"\n",
      "_________________________________________________________________\n",
      " Layer (type)                Output Shape              Param #   \n",
      "=================================================================\n",
      " conv2d_14 (Conv2D)          (None, 46, 46, 6)         60        \n",
      "                                                                 \n",
      " average_pooling2d_12 (Avera  (None, 23, 23, 6)        0         \n",
      " gePooling2D)                                                    \n",
      "                                                                 \n",
      " conv2d_15 (Conv2D)          (None, 21, 21, 16)        880       \n",
      "                                                                 \n",
      " average_pooling2d_13 (Avera  (None, 10, 10, 16)       0         \n",
      " gePooling2D)                                                    \n",
      "                                                                 \n",
      " flatten_6 (Flatten)         (None, 1600)              0         \n",
      "                                                                 \n",
      " dense_18 (Dense)            (None, 120)               192120    \n",
      "                                                                 \n",
      " dense_19 (Dense)            (None, 84)                10164     \n",
      "                                                                 \n",
      " dense_20 (Dense)            (None, 2)                 170       \n",
      "                                                                 \n",
      "=================================================================\n",
      "Total params: 203,394\n",
      "Trainable params: 203,394\n",
      "Non-trainable params: 0\n",
      "_________________________________________________________________\n",
      "None\n"
     ]
    }
   ],
   "source": [
    "model = keras.Sequential()\n",
    "model.add(keras.layers.Conv2D(6, kernel_size=(3, 3), activation='relu', input_shape=(48,48,1)))\n",
    "model.add(keras.layers.AveragePooling2D())\n",
    "model.add(keras.layers.Conv2D(16, kernel_size=(3, 3), activation='relu'))\n",
    "model.add(keras.layers.AveragePooling2D())\n",
    "model.add(keras.layers.Flatten())\n",
    "model.add(keras.layers.Dense(120, activation='relu'))\n",
    "model.add(keras.layers.Dense(84, activation='relu'))\n",
    "model.add(keras.layers.Dense(num_classes, activation = 'softmax'))\n",
    "\n",
    "print(model.summary())"
   ]
  },
  {
   "cell_type": "code",
   "execution_count": 65,
   "id": "db8e4c5d",
   "metadata": {},
   "outputs": [],
   "source": [
    "checkpoint = ModelCheckpoint('model.h5',\n",
    "                                 monitor='val_accuracy',\n",
    "                                 mode='auto',\n",
    "                                 save_best_only=True,\n",
    "                                 save_weights_only=False,\n",
    "                                 verbose=1)\n",
    "\n",
    "earlystop = EarlyStopping(monitor='val_accuracy',\n",
    "                              min_delta=0,\n",
    "                              patience=10,\n",
    "                              verbose=1,\n",
    "                              mode='auto',\n",
    "                              restore_best_weights=True)\n",
    "\n",
    "reduce_lr = ReduceLROnPlateau(monitor='val_accuracy',\n",
    "                                  factor=0.2,\n",
    "                                  patience=10,\n",
    "                                  verbose=1,\n",
    "                                  min_delta=0.0001)\n",
    "\n",
    "base_log_path = r\"C:\\Users\\User\\Documents\\My Documents\\My Programme\\AI And ML Competence For Industry 4.0\\DLP A106\\Source Code\\cnn_log\"\n",
    "log_path = os.path.join(base_log_path, datetime.datetime.now().strftime(\"%Y%m%d-%H%M%S\"))\n",
    "tb = TensorBoard(log_dir=log_path)"
   ]
  },
  {
   "cell_type": "code",
   "execution_count": 66,
   "id": "459139ea",
   "metadata": {},
   "outputs": [],
   "source": [
    "csv_logger = CSVLogger(\"LeNet_result.csv\", append=True)\n",
    "\n",
    "callbacks = [earlystop, checkpoint, reduce_lr, csv_logger,tb]\n",
    "\n",
    "model.compile(loss='sparse_categorical_crossentropy',\n",
    "                  loss_weights=0.3, \n",
    "                  optimizer='adam',\n",
    "                  metrics=['accuracy'])"
   ]
  },
  {
   "cell_type": "code",
   "execution_count": 67,
   "id": "eccc8ca6",
   "metadata": {},
   "outputs": [
    {
     "name": "stdout",
     "output_type": "stream",
     "text": [
      "Total Files:  28000\n",
      "Total Files:  8000\n"
     ]
    }
   ],
   "source": [
    "totalDir = 0\n",
    "totalFiles = 0\n",
    "totalDir1 = 0\n",
    "totalFiles1 = 0\n",
    "for base, dirs, files in os.walk(train_data):\n",
    "    for directories in dirs:\n",
    "            totalDir+=1\n",
    "    for Files in files:\n",
    "            totalFiles+=1\n",
    "print(\"Total Files: \",totalFiles)\n",
    "\n",
    "for base1, dirs1, files1 in os.walk(val_data):\n",
    "    for directories in dirs1:\n",
    "            totalDir1+=1\n",
    "    for Files in files1:\n",
    "            totalFiles1+=1\n",
    "print(\"Total Files: \",totalFiles1)\n",
    "nb_train_samples = totalFiles\n",
    "nb_validation_samples = totalFiles1"
   ]
  },
  {
   "cell_type": "code",
   "execution_count": 68,
   "id": "a8bf3ff6",
   "metadata": {},
   "outputs": [
    {
     "name": "stdout",
     "output_type": "stream",
     "text": [
      "Epoch 1/50\n",
      "875/875 [==============================] - ETA: 0s - loss: 0.1530 - accuracy: 0.7503\n",
      "Epoch 1: val_accuracy improved from -inf to 0.93425, saving model to model.h5\n",
      "875/875 [==============================] - 197s 222ms/step - loss: 0.1530 - accuracy: 0.7503 - val_loss: 0.0596 - val_accuracy: 0.9342 - lr: 0.0100\n",
      "Epoch 2/50\n",
      "875/875 [==============================] - ETA: 0s - loss: 0.0621 - accuracy: 0.9233\n",
      "Epoch 2: val_accuracy improved from 0.93425 to 0.96650, saving model to model.h5\n",
      "875/875 [==============================] - 175s 200ms/step - loss: 0.0621 - accuracy: 0.9233 - val_loss: 0.0305 - val_accuracy: 0.9665 - lr: 0.0100\n",
      "Epoch 3/50\n",
      "875/875 [==============================] - ETA: 0s - loss: 0.0500 - accuracy: 0.9431\n",
      "Epoch 3: val_accuracy improved from 0.96650 to 0.97425, saving model to model.h5\n",
      "875/875 [==============================] - 165s 189ms/step - loss: 0.0500 - accuracy: 0.9431 - val_loss: 0.0306 - val_accuracy: 0.9743 - lr: 0.0100\n",
      "Epoch 4/50\n",
      "875/875 [==============================] - ETA: 0s - loss: 0.0462 - accuracy: 0.9484\n",
      "Epoch 4: val_accuracy improved from 0.97425 to 0.97550, saving model to model.h5\n",
      "875/875 [==============================] - 166s 190ms/step - loss: 0.0462 - accuracy: 0.9484 - val_loss: 0.0266 - val_accuracy: 0.9755 - lr: 0.0100\n",
      "Epoch 5/50\n",
      "875/875 [==============================] - ETA: 0s - loss: 0.0437 - accuracy: 0.9508\n",
      "Epoch 5: val_accuracy improved from 0.97550 to 0.97688, saving model to model.h5\n",
      "875/875 [==============================] - 169s 193ms/step - loss: 0.0437 - accuracy: 0.9508 - val_loss: 0.0248 - val_accuracy: 0.9769 - lr: 0.0100\n",
      "Epoch 6/50\n",
      "875/875 [==============================] - ETA: 0s - loss: 0.0411 - accuracy: 0.9536\n",
      "Epoch 6: val_accuracy did not improve from 0.97688\n",
      "875/875 [==============================] - 165s 189ms/step - loss: 0.0411 - accuracy: 0.9536 - val_loss: 0.0235 - val_accuracy: 0.9751 - lr: 0.0100\n",
      "Epoch 7/50\n",
      "875/875 [==============================] - ETA: 0s - loss: 0.0405 - accuracy: 0.9559\n",
      "Epoch 7: val_accuracy improved from 0.97688 to 0.97988, saving model to model.h5\n",
      "875/875 [==============================] - 164s 187ms/step - loss: 0.0405 - accuracy: 0.9559 - val_loss: 0.0215 - val_accuracy: 0.9799 - lr: 0.0100\n",
      "Epoch 8/50\n",
      "875/875 [==============================] - ETA: 0s - loss: 0.0408 - accuracy: 0.9546\n",
      "Epoch 8: val_accuracy did not improve from 0.97988\n",
      "875/875 [==============================] - 174s 198ms/step - loss: 0.0408 - accuracy: 0.9546 - val_loss: 0.0238 - val_accuracy: 0.9783 - lr: 0.0100\n",
      "Epoch 9/50\n",
      "875/875 [==============================] - ETA: 0s - loss: 0.0393 - accuracy: 0.9572\n",
      "Epoch 9: val_accuracy did not improve from 0.97988\n",
      "875/875 [==============================] - 183s 209ms/step - loss: 0.0393 - accuracy: 0.9572 - val_loss: 0.0203 - val_accuracy: 0.9790 - lr: 0.0100\n",
      "Epoch 10/50\n",
      "875/875 [==============================] - ETA: 0s - loss: 0.0401 - accuracy: 0.9562\n",
      "Epoch 10: val_accuracy did not improve from 0.97988\n",
      "875/875 [==============================] - 163s 187ms/step - loss: 0.0401 - accuracy: 0.9562 - val_loss: 0.0216 - val_accuracy: 0.9789 - lr: 0.0100\n",
      "Epoch 11/50\n",
      "875/875 [==============================] - ETA: 0s - loss: 0.0367 - accuracy: 0.9599\n",
      "Epoch 11: val_accuracy improved from 0.97988 to 0.98150, saving model to model.h5\n",
      "875/875 [==============================] - 164s 188ms/step - loss: 0.0367 - accuracy: 0.9599 - val_loss: 0.0208 - val_accuracy: 0.9815 - lr: 0.0100\n",
      "Epoch 12/50\n",
      "875/875 [==============================] - ETA: 0s - loss: 0.0386 - accuracy: 0.9576\n",
      "Epoch 12: val_accuracy improved from 0.98150 to 0.98225, saving model to model.h5\n",
      "875/875 [==============================] - 164s 187ms/step - loss: 0.0386 - accuracy: 0.9576 - val_loss: 0.0185 - val_accuracy: 0.9822 - lr: 0.0100\n",
      "Epoch 13/50\n",
      "875/875 [==============================] - ETA: 0s - loss: 0.0358 - accuracy: 0.9607\n",
      "Epoch 13: val_accuracy did not improve from 0.98225\n",
      "875/875 [==============================] - 163s 187ms/step - loss: 0.0358 - accuracy: 0.9607 - val_loss: 0.0199 - val_accuracy: 0.9809 - lr: 0.0100\n",
      "Epoch 14/50\n",
      "875/875 [==============================] - ETA: 0s - loss: 0.0366 - accuracy: 0.9602\n",
      "Epoch 14: val_accuracy did not improve from 0.98225\n",
      "875/875 [==============================] - 164s 187ms/step - loss: 0.0366 - accuracy: 0.9602 - val_loss: 0.0213 - val_accuracy: 0.9804 - lr: 0.0100\n",
      "Epoch 15/50\n",
      "875/875 [==============================] - ETA: 0s - loss: 0.0362 - accuracy: 0.9602\n",
      "Epoch 15: val_accuracy did not improve from 0.98225\n",
      "875/875 [==============================] - 164s 187ms/step - loss: 0.0362 - accuracy: 0.9602 - val_loss: 0.0199 - val_accuracy: 0.9803 - lr: 0.0100\n",
      "Epoch 16/50\n",
      "875/875 [==============================] - ETA: 0s - loss: 0.0358 - accuracy: 0.9614\n",
      "Epoch 16: val_accuracy did not improve from 0.98225\n",
      "875/875 [==============================] - 165s 188ms/step - loss: 0.0358 - accuracy: 0.9614 - val_loss: 0.0250 - val_accuracy: 0.9746 - lr: 0.0100\n",
      "Epoch 17/50\n",
      "875/875 [==============================] - ETA: 0s - loss: 0.0350 - accuracy: 0.9625\n",
      "Epoch 17: val_accuracy improved from 0.98225 to 0.98325, saving model to model.h5\n",
      "875/875 [==============================] - 167s 191ms/step - loss: 0.0350 - accuracy: 0.9625 - val_loss: 0.0186 - val_accuracy: 0.9833 - lr: 0.0100\n",
      "Epoch 18/50\n",
      "875/875 [==============================] - ETA: 0s - loss: 0.0352 - accuracy: 0.9618\n",
      "Epoch 18: val_accuracy improved from 0.98325 to 0.98375, saving model to model.h5\n",
      "875/875 [==============================] - 164s 188ms/step - loss: 0.0352 - accuracy: 0.9618 - val_loss: 0.0184 - val_accuracy: 0.9837 - lr: 0.0100\n",
      "Epoch 19/50\n",
      "875/875 [==============================] - ETA: 0s - loss: 0.0346 - accuracy: 0.9637\n",
      "Epoch 19: val_accuracy did not improve from 0.98375\n",
      "875/875 [==============================] - 168s 192ms/step - loss: 0.0346 - accuracy: 0.9637 - val_loss: 0.0182 - val_accuracy: 0.9829 - lr: 0.0100\n",
      "Epoch 20/50\n",
      "875/875 [==============================] - ETA: 0s - loss: 0.0338 - accuracy: 0.9637\n",
      "Epoch 20: val_accuracy improved from 0.98375 to 0.98438, saving model to model.h5\n",
      "875/875 [==============================] - 165s 188ms/step - loss: 0.0338 - accuracy: 0.9637 - val_loss: 0.0169 - val_accuracy: 0.9844 - lr: 0.0100\n",
      "Epoch 21/50\n",
      "875/875 [==============================] - ETA: 0s - loss: 0.0350 - accuracy: 0.9626\n",
      "Epoch 21: val_accuracy improved from 0.98438 to 0.98525, saving model to model.h5\n",
      "875/875 [==============================] - 164s 187ms/step - loss: 0.0350 - accuracy: 0.9626 - val_loss: 0.0176 - val_accuracy: 0.9852 - lr: 0.0100\n",
      "Epoch 22/50\n",
      "875/875 [==============================] - ETA: 0s - loss: 0.0334 - accuracy: 0.9651\n",
      "Epoch 22: val_accuracy improved from 0.98525 to 0.98537, saving model to model.h5\n",
      "875/875 [==============================] - 164s 188ms/step - loss: 0.0334 - accuracy: 0.9651 - val_loss: 0.0179 - val_accuracy: 0.9854 - lr: 0.0100\n",
      "Epoch 23/50\n",
      "875/875 [==============================] - ETA: 0s - loss: 0.0344 - accuracy: 0.9632\n",
      "Epoch 23: val_accuracy did not improve from 0.98537\n",
      "875/875 [==============================] - 169s 193ms/step - loss: 0.0344 - accuracy: 0.9632 - val_loss: 0.0181 - val_accuracy: 0.9852 - lr: 0.0100\n",
      "Epoch 24/50\n",
      "875/875 [==============================] - ETA: 0s - loss: 0.0337 - accuracy: 0.9645\n",
      "Epoch 24: val_accuracy improved from 0.98537 to 0.98625, saving model to model.h5\n",
      "875/875 [==============================] - 164s 188ms/step - loss: 0.0337 - accuracy: 0.9645 - val_loss: 0.0154 - val_accuracy: 0.9862 - lr: 0.0100\n",
      "Epoch 25/50\n",
      "875/875 [==============================] - ETA: 0s - loss: 0.0323 - accuracy: 0.9668\n",
      "Epoch 25: val_accuracy did not improve from 0.98625\n",
      "875/875 [==============================] - 170s 194ms/step - loss: 0.0323 - accuracy: 0.9668 - val_loss: 0.0186 - val_accuracy: 0.9834 - lr: 0.0100\n",
      "Epoch 26/50\n",
      "875/875 [==============================] - ETA: 0s - loss: 0.0327 - accuracy: 0.9656\n",
      "Epoch 26: val_accuracy did not improve from 0.98625\n",
      "875/875 [==============================] - 165s 189ms/step - loss: 0.0327 - accuracy: 0.9656 - val_loss: 0.0154 - val_accuracy: 0.9861 - lr: 0.0100\n",
      "Epoch 27/50\n",
      "875/875 [==============================] - ETA: 0s - loss: 0.0325 - accuracy: 0.9659\n",
      "Epoch 27: val_accuracy did not improve from 0.98625\n",
      "875/875 [==============================] - 164s 187ms/step - loss: 0.0325 - accuracy: 0.9659 - val_loss: 0.0176 - val_accuracy: 0.9849 - lr: 0.0100\n",
      "Epoch 28/50\n",
      "875/875 [==============================] - ETA: 0s - loss: 0.0331 - accuracy: 0.9647\n",
      "Epoch 28: val_accuracy did not improve from 0.98625\n",
      "875/875 [==============================] - 163s 186ms/step - loss: 0.0331 - accuracy: 0.9647 - val_loss: 0.0159 - val_accuracy: 0.9862 - lr: 0.0100\n",
      "Epoch 29/50\n",
      "875/875 [==============================] - ETA: 0s - loss: 0.0318 - accuracy: 0.9670\n",
      "Epoch 29: val_accuracy did not improve from 0.98625\n",
      "875/875 [==============================] - 163s 186ms/step - loss: 0.0318 - accuracy: 0.9670 - val_loss: 0.0167 - val_accuracy: 0.9846 - lr: 0.0100\n",
      "Epoch 30/50\n",
      "875/875 [==============================] - ETA: 0s - loss: 0.0321 - accuracy: 0.9662\n",
      "Epoch 30: val_accuracy did not improve from 0.98625\n",
      "875/875 [==============================] - 175s 200ms/step - loss: 0.0321 - accuracy: 0.9662 - val_loss: 0.0229 - val_accuracy: 0.9771 - lr: 0.0100\n",
      "Epoch 31/50\n",
      "875/875 [==============================] - ETA: 0s - loss: 0.0326 - accuracy: 0.9652\n",
      "Epoch 31: val_accuracy did not improve from 0.98625\n",
      "875/875 [==============================] - 175s 200ms/step - loss: 0.0326 - accuracy: 0.9652 - val_loss: 0.0183 - val_accuracy: 0.9825 - lr: 0.0100\n",
      "Epoch 32/50\n",
      "875/875 [==============================] - ETA: 0s - loss: 0.0317 - accuracy: 0.9669\n",
      "Epoch 32: val_accuracy did not improve from 0.98625\n",
      "875/875 [==============================] - 163s 186ms/step - loss: 0.0317 - accuracy: 0.9669 - val_loss: 0.0181 - val_accuracy: 0.9851 - lr: 0.0100\n",
      "Epoch 33/50\n",
      "875/875 [==============================] - ETA: 0s - loss: 0.0306 - accuracy: 0.9684\n",
      "Epoch 33: val_accuracy did not improve from 0.98625\n",
      "875/875 [==============================] - 162s 186ms/step - loss: 0.0306 - accuracy: 0.9684 - val_loss: 0.0205 - val_accuracy: 0.9831 - lr: 0.0100\n",
      "Epoch 34/50\n",
      "875/875 [==============================] - ETA: 0s - loss: 0.0314 - accuracy: 0.9683Restoring model weights from the end of the best epoch: 24.\n",
      "\n",
      "Epoch 34: val_accuracy did not improve from 0.98625\n",
      "\n",
      "Epoch 34: ReduceLROnPlateau reducing learning rate to 0.0019999999552965165.\n",
      "875/875 [==============================] - 163s 187ms/step - loss: 0.0314 - accuracy: 0.9683 - val_loss: 0.0180 - val_accuracy: 0.9815 - lr: 0.0100\n",
      "Epoch 34: early stopping\n"
     ]
    }
   ],
   "source": [
    "history = model.fit(train_generator,\n",
    "                    steps_per_epoch=nb_train_samples//BATCH_SIZE,\n",
    "                    epochs=EPOCH,\n",
    "                    batch_size=BATCH_SIZE,\n",
    "                    callbacks=callbacks,\n",
    "                    validation_data=valid_generator,\n",
    "                    validation_steps=nb_validation_samples//BATCH_SIZE)"
   ]
  },
  {
   "cell_type": "code",
   "execution_count": 69,
   "id": "d45c716f",
   "metadata": {},
   "outputs": [
    {
     "name": "stdout",
     "output_type": "stream",
     "text": [
      "125/125 [==============================] - 18s 144ms/step - loss: 0.0161 - accuracy: 0.9855\n",
      "Test accuracy : 0.9854999780654907\n"
     ]
    }
   ],
   "source": [
    "#Evaluation and prediction\n",
    "loss, accuracy = model.evaluate(test_generator)\n",
    "print('Test accuracy :', accuracy)"
   ]
  },
  {
   "cell_type": "code",
   "execution_count": 91,
   "id": "b9593cd7",
   "metadata": {},
   "outputs": [],
   "source": [
    "# Retrieve a batch of images from the test set\n",
    "image_batch, label_batch = test_generator.next()\n",
    "predictions = model.predict_on_batch(image_batch).flatten()"
   ]
  },
  {
   "cell_type": "code",
   "execution_count": 94,
   "id": "81eae73b",
   "metadata": {},
   "outputs": [],
   "source": [
    "predictions = tf.nn.softmax(predictions)\n",
    "predictions = tf.where(predictions < 0.5, 0, 1)"
   ]
  },
  {
   "cell_type": "code",
   "execution_count": 95,
   "id": "71e24720",
   "metadata": {},
   "outputs": [
    {
     "name": "stdout",
     "output_type": "stream",
     "text": [
      "Predictions:\n",
      " [0 0 0 0 0 0 0 0 0 0 0 0 0 0 0 0 0 0 0 0 0 0 0 0 0 0 0 0 0 0 0 0 0 0 0 0 0\n",
      " 0 0 0 0 0 0 0 0 0 0 0 0 0 0 0 0 0 0 0 0 0 0 0 0 0 0 0]\n",
      "Labels:\n",
      " [[0. 1.]\n",
      " [1. 0.]\n",
      " [0. 1.]\n",
      " [1. 0.]\n",
      " [1. 0.]\n",
      " [0. 1.]\n",
      " [1. 0.]\n",
      " [0. 1.]\n",
      " [1. 0.]\n",
      " [1. 0.]\n",
      " [0. 1.]\n",
      " [0. 1.]\n",
      " [1. 0.]\n",
      " [1. 0.]\n",
      " [1. 0.]\n",
      " [1. 0.]\n",
      " [0. 1.]\n",
      " [1. 0.]\n",
      " [0. 1.]\n",
      " [0. 1.]\n",
      " [1. 0.]\n",
      " [1. 0.]\n",
      " [1. 0.]\n",
      " [0. 1.]\n",
      " [0. 1.]\n",
      " [1. 0.]\n",
      " [0. 1.]\n",
      " [1. 0.]\n",
      " [0. 1.]\n",
      " [0. 1.]\n",
      " [0. 1.]\n",
      " [1. 0.]]\n"
     ]
    }
   ],
   "source": [
    "print('Predictions:\\n', predictions.numpy())\n",
    "print('Labels:\\n', label_batch)"
   ]
  },
  {
   "cell_type": "code",
   "execution_count": 96,
   "id": "39376237",
   "metadata": {},
   "outputs": [],
   "source": [
    "class_names = list(train_generator.class_indices.keys())"
   ]
  },
  {
   "cell_type": "code",
   "execution_count": 97,
   "id": "81dd5e26",
   "metadata": {},
   "outputs": [],
   "source": [
    "image_batch = image_batch.reshape(48,48,-1)"
   ]
  },
  {
   "cell_type": "code",
   "execution_count": null,
   "id": "c6a174db",
   "metadata": {},
   "outputs": [],
   "source": [
    "mage_x = random.randint(0, len(train_ids))\n",
    "imshow(X_train[image_x])\n",
    "plt.show()\n",
    "print(Y_train[image_x].shape)\n",
    "print(np.squeeze(Y_train[image_x]).shape)\n",
    "imshow(np.squeeze(Y_train[image_x]))\n",
    "plt.show()"
   ]
  },
  {
   "cell_type": "code",
   "execution_count": 98,
   "id": "f3442d69",
   "metadata": {},
   "outputs": [
    {
     "data": {
      "image/png": "[encoded data removed]",
      "text/plain": [
       "<Figure size 720x720 with 9 Axes>"
      ]
     },
     "metadata": {
      "needs_background": "light"
     },
     "output_type": "display_data"
    }
   ],
   "source": [
    "plt.figure(figsize=(10, 10))\n",
    "for i in range(9):\n",
    "  ax = plt.subplot(3, 3, i + 1)\n",
    "  #image_batch[i] = np.squeeze(image_batch[i])\n",
    "  #print(image_batch[i].shape)\n",
    "  plt.imshow(np.squeeze(image_batch[i]))\n",
    "  plt.title(class_names[predictions[i]])\n",
    "  plt.axis(\"off\")\n",
    "plt.show()"
   ]
  },
  {
   "cell_type": "code",
   "execution_count": 99,
   "id": "14d3f75b",
   "metadata": {},
   "outputs": [
    {
     "name": "stdout",
     "output_type": "stream",
     "text": [
      "Testing dataset\n",
      "125/125 [==============================] - 17s 134ms/step\n",
      "[[ 990 1010]\n",
      " [1004  996]]\n",
      "-------------------------------------------------------------------------------------\n",
      "Classification Report\n",
      "Target names\n",
      "              precision    recall  f1-score   support\n",
      "\n",
      "    Negative       0.50      0.49      0.50      2000\n",
      "    Positive       0.50      0.50      0.50      2000\n",
      "\n",
      "    accuracy                           0.50      4000\n",
      "   macro avg       0.50      0.50      0.50      4000\n",
      "weighted avg       0.50      0.50      0.50      4000\n",
      "\n",
      "Labels\n",
      "              precision    recall  f1-score   support\n",
      "\n",
      "           0       0.50      0.49      0.50      2000\n",
      "           1       0.50      0.50      0.50      2000\n",
      "\n",
      "    accuracy                           0.50      4000\n",
      "   macro avg       0.50      0.50      0.50      4000\n",
      "weighted avg       0.50      0.50      0.50      4000\n",
      "\n"
     ]
    }
   ],
   "source": [
    "print('Testing dataset')\n",
    "Y_pred = model.predict(test_generator)\n",
    "y_pred = np.argmax(Y_pred, axis=1)\n",
    "print(confusion_matrix(test_generator.classes, y_pred))\n",
    "print('-------------------------------------------------------------------------------------')\n",
    "class_labels = list(test_generator.class_indices.keys())\n",
    "print('Classification Report')\n",
    "target_names = class_labels\n",
    "print('Target names')\n",
    "print(classification_report(test_generator.classes, y_pred, \n",
    "                            target_names=target_names, zero_division=1))\n",
    "print('Labels')\n",
    "print(classification_report(test_generator.classes, y_pred, \n",
    "                            labels=np.unique(y_pred), zero_division=1))"
   ]
  },
  {
   "cell_type": "code",
   "execution_count": 101,
   "id": "ff945828",
   "metadata": {},
   "outputs": [
    {
     "name": "stdout",
     "output_type": "stream",
     "text": [
      "Testing dataset\n",
      "250/250 [==============================] - 36s 143ms/step\n",
      "[[1998 2002]\n",
      " [1988 2012]]\n",
      "-------------------------------------------------------------------------------------\n",
      "Classification Report\n",
      "Target names\n",
      "              precision    recall  f1-score   support\n",
      "\n",
      "    Negative       0.50      0.50      0.50      4000\n",
      "    Positive       0.50      0.50      0.50      4000\n",
      "\n",
      "    accuracy                           0.50      8000\n",
      "   macro avg       0.50      0.50      0.50      8000\n",
      "weighted avg       0.50      0.50      0.50      8000\n",
      "\n",
      "Labels\n",
      "              precision    recall  f1-score   support\n",
      "\n",
      "           0       0.50      0.50      0.50      4000\n",
      "           1       0.50      0.50      0.50      4000\n",
      "\n",
      "    accuracy                           0.50      8000\n",
      "   macro avg       0.50      0.50      0.50      8000\n",
      "weighted avg       0.50      0.50      0.50      8000\n",
      "\n"
     ]
    }
   ],
   "source": [
    "print('Testing dataset')\n",
    "Y_pred = model.predict(valid_generator)\n",
    "y_pred = np.argmax(Y_pred, axis=1)\n",
    "print(confusion_matrix(valid_generator.classes, y_pred))\n",
    "print('-------------------------------------------------------------------------------------')\n",
    "class_labels = list(valid_generator.class_indices.keys())\n",
    "print('Classification Report')\n",
    "target_names = class_labels\n",
    "print('Target names')\n",
    "print(classification_report(valid_generator.classes, y_pred, target_names=target_names, zero_division=1))\n",
    "print('Labels')\n",
    "print(classification_report(valid_generator.classes, y_pred, labels=np.unique(y_pred), zero_division=1))"
   ]
  }
 ],
 "metadata": {
  "kernelspec": {
   "display_name": "Python 3 (ipykernel)",
   "language": "python",
   "name": "python3"
  },
  "language_info": {
   "codemirror_mode": {
    "name": "ipython",
    "version": 3
   },
   "file_extension": ".py",
   "mimetype": "text/x-python",
   "name": "python",
   "nbconvert_exporter": "python",
   "pygments_lexer": "ipython3",
   "version": "3.8.12"
  }
 },
 "nbformat": 4,
 "nbformat_minor": 5
}
